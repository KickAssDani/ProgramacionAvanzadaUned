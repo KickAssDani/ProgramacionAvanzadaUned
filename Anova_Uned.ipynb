{
  "nbformat": 4,
  "nbformat_minor": 0,
  "metadata": {
    "colab": {
      "name": "Anova_Uned.ipynb",
      "provenance": [],
      "collapsed_sections": [
        "jjQ3iSwnRKTs",
        "Rn06SSwqcbRt"
      ],
      "include_colab_link": true
    },
    "kernelspec": {
      "name": "python3",
      "display_name": "Python 3"
    },
    "language_info": {
      "name": "python"
    }
  },
  "cells": [
    {
      "cell_type": "markdown",
      "metadata": {
        "id": "view-in-github",
        "colab_type": "text"
      },
      "source": [
        "<a href=\"https://colab.research.google.com/github/KickAssDani/ProgramacionAvanzadaUned/blob/master/Anova_Uned.ipynb\" target=\"_parent\"><img src=\"https://colab.research.google.com/assets/colab-badge.svg\" alt=\"Open In Colab\"/></a>"
      ]
    },
    {
      "cell_type": "markdown",
      "metadata": {
        "id": "jjQ3iSwnRKTs"
      },
      "source": [
        "\n",
        "# Libro: Experimentation in Software Enginnering\n",
        "#Capítulo: 10 - Analysis and Interpretation\n",
        "#Tema: Anova de un factor con más de tres tratamientos\n",
        "#Sección: 10.3.10 \n",
        "#Dr. Abel Méndez Porras\n",
        "\n",
        "https://www.descubrimiclase.com/\n",
        "\n",
        "mendez.abel@gmail.com"
      ]
    },
    {
      "cell_type": "markdown",
      "metadata": {
        "id": "Rn06SSwqcbRt"
      },
      "source": [
        "# Información del Estudiante\n",
        "Nombre completo: Jorge Eduardo Chaves Esquivel\n",
        "\n",
        "Email: jechaves@uned"
      ]
    },
    {
      "cell_type": "code",
      "metadata": {
        "colab": {
          "base_uri": "https://localhost:8080/"
        },
        "id": "nMVMFJQoJ665",
        "outputId": "0b5aba88-2122-4b30-9884-f5062c4ef2d6"
      },
      "source": [
        "from google.colab import drive\n",
        "drive.mount('/content/drive')"
      ],
      "execution_count": null,
      "outputs": [
        {
          "output_type": "stream",
          "name": "stdout",
          "text": [
            "Mounted at /content/drive\n"
          ]
        }
      ]
    },
    {
      "cell_type": "markdown",
      "metadata": {
        "id": "MmIv21sfURQS"
      },
      "source": [
        "# Problema\n"
      ]
    },
    {
      "cell_type": "markdown",
      "metadata": {
        "id": "TjIfHsLpUgjG"
      },
      "source": [
        "Se han medido los tamaños de los módulos en tres programas diferentes.\n",
        "\n",
        "\n",
        "La hipótesis del investigador es que la media del tamaño de los módulos no es igual en los tres programas."
      ]
    },
    {
      "cell_type": "markdown",
      "metadata": {
        "id": "aQ8rxPhSDWtY"
      },
      "source": [
        "# Crear datos"
      ]
    },
    {
      "cell_type": "code",
      "metadata": {
        "id": "bE99CJm5IGJT",
        "colab": {
          "base_uri": "https://localhost:8080/",
          "height": 426
        },
        "outputId": "fb8fdbda-6411-4bb0-e188-55210ec2c335"
      },
      "source": [
        "import pandas as pd\n",
        "import numpy as np \n",
        "# Declaracion de data frame con algunos datos faltantes\n",
        "# NaN = Not a Number\n",
        "df = pd.DataFrame({'Programa1':[221,159,191,194,156,238,220,197,197,194,np.nan,np.nan],\n",
        "                  'Programa2':[173,171,168,286,206,140,226,248,189,208,213,np.nan],\n",
        "                  'Programa3':[234,188,181,207,266,153,190,195,181,238,191,260]})\n",
        "df"
      ],
      "execution_count": null,
      "outputs": [
        {
          "output_type": "execute_result",
          "data": {
            "text/html": [
              "<div>\n",
              "<style scoped>\n",
              "    .dataframe tbody tr th:only-of-type {\n",
              "        vertical-align: middle;\n",
              "    }\n",
              "\n",
              "    .dataframe tbody tr th {\n",
              "        vertical-align: top;\n",
              "    }\n",
              "\n",
              "    .dataframe thead th {\n",
              "        text-align: right;\n",
              "    }\n",
              "</style>\n",
              "<table border=\"1\" class=\"dataframe\">\n",
              "  <thead>\n",
              "    <tr style=\"text-align: right;\">\n",
              "      <th></th>\n",
              "      <th>Programa1</th>\n",
              "      <th>Programa2</th>\n",
              "      <th>Programa3</th>\n",
              "    </tr>\n",
              "  </thead>\n",
              "  <tbody>\n",
              "    <tr>\n",
              "      <th>0</th>\n",
              "      <td>221.0</td>\n",
              "      <td>173.0</td>\n",
              "      <td>234</td>\n",
              "    </tr>\n",
              "    <tr>\n",
              "      <th>1</th>\n",
              "      <td>159.0</td>\n",
              "      <td>171.0</td>\n",
              "      <td>188</td>\n",
              "    </tr>\n",
              "    <tr>\n",
              "      <th>2</th>\n",
              "      <td>191.0</td>\n",
              "      <td>168.0</td>\n",
              "      <td>181</td>\n",
              "    </tr>\n",
              "    <tr>\n",
              "      <th>3</th>\n",
              "      <td>194.0</td>\n",
              "      <td>286.0</td>\n",
              "      <td>207</td>\n",
              "    </tr>\n",
              "    <tr>\n",
              "      <th>4</th>\n",
              "      <td>156.0</td>\n",
              "      <td>206.0</td>\n",
              "      <td>266</td>\n",
              "    </tr>\n",
              "    <tr>\n",
              "      <th>5</th>\n",
              "      <td>238.0</td>\n",
              "      <td>140.0</td>\n",
              "      <td>153</td>\n",
              "    </tr>\n",
              "    <tr>\n",
              "      <th>6</th>\n",
              "      <td>220.0</td>\n",
              "      <td>226.0</td>\n",
              "      <td>190</td>\n",
              "    </tr>\n",
              "    <tr>\n",
              "      <th>7</th>\n",
              "      <td>197.0</td>\n",
              "      <td>248.0</td>\n",
              "      <td>195</td>\n",
              "    </tr>\n",
              "    <tr>\n",
              "      <th>8</th>\n",
              "      <td>197.0</td>\n",
              "      <td>189.0</td>\n",
              "      <td>181</td>\n",
              "    </tr>\n",
              "    <tr>\n",
              "      <th>9</th>\n",
              "      <td>194.0</td>\n",
              "      <td>208.0</td>\n",
              "      <td>238</td>\n",
              "    </tr>\n",
              "    <tr>\n",
              "      <th>10</th>\n",
              "      <td>NaN</td>\n",
              "      <td>213.0</td>\n",
              "      <td>191</td>\n",
              "    </tr>\n",
              "    <tr>\n",
              "      <th>11</th>\n",
              "      <td>NaN</td>\n",
              "      <td>NaN</td>\n",
              "      <td>260</td>\n",
              "    </tr>\n",
              "  </tbody>\n",
              "</table>\n",
              "</div>"
            ],
            "text/plain": [
              "    Programa1  Programa2  Programa3\n",
              "0       221.0      173.0        234\n",
              "1       159.0      171.0        188\n",
              "2       191.0      168.0        181\n",
              "3       194.0      286.0        207\n",
              "4       156.0      206.0        266\n",
              "5       238.0      140.0        153\n",
              "6       220.0      226.0        190\n",
              "7       197.0      248.0        195\n",
              "8       197.0      189.0        181\n",
              "9       194.0      208.0        238\n",
              "10        NaN      213.0        191\n",
              "11        NaN        NaN        260"
            ]
          },
          "metadata": {},
          "execution_count": 4
        }
      ]
    },
    {
      "cell_type": "markdown",
      "metadata": {
        "id": "TdUKwa3fnySH"
      },
      "source": [
        "# Gráficar datos"
      ]
    },
    {
      "cell_type": "code",
      "metadata": {
        "id": "Fde3Wbjjn33d",
        "colab": {
          "base_uri": "https://localhost:8080/",
          "height": 279
        },
        "outputId": "9f96f8c8-d502-4f3b-aa28-73e518ce0073"
      },
      "source": [
        "import pandas as pd\n",
        "# Ajustar el conjuto de datos  para el paquete statsmodels\n",
        "df_melt = pd.melt(df.reset_index(), id_vars=['index'], value_vars=['Programa1', 'Programa2', 'Programa3'])\n",
        "# Replanzar el nombre de las columnas\n",
        "df_melt.columns = ['index', 'Programa', 'Tamaño']\n",
        "\n",
        "#Genere un diagrama de caja para ver la distribución de datos por tratamientos. \n",
        "#En el diagrama de caja, se puede detectar fácilmente las diferencias entre los diferentes tratamientos.\n",
        "import matplotlib.pyplot as plt\n",
        "import seaborn as sns\n",
        "ax = sns.boxplot(x='Programa', y='Tamaño', data=df_melt, color='#99c2a2')\n",
        "ax = sns.swarmplot(x=\"Programa\", y=\"Tamaño\", data=df_melt, color='#7d0013')\n",
        "plt.show()"
      ],
      "execution_count": null,
      "outputs": [
        {
          "output_type": "display_data",
          "data": {
            "image/png": "[encoded data removed]",
            "text/plain": [
              "<Figure size 432x288 with 1 Axes>"
            ]
          },
          "metadata": {
            "needs_background": "light"
          }
        }
      ]
    },
    {
      "cell_type": "markdown",
      "metadata": {
        "id": "7Q5yfhBBBKdC"
      },
      "source": [
        "# Resumen de los datos"
      ]
    },
    {
      "cell_type": "code",
      "metadata": {
        "id": "vngOH-3T7srt",
        "colab": {
          "base_uri": "https://localhost:8080/"
        },
        "outputId": "49267d04-7653-4921-8072-61961c431ef6"
      },
      "source": [
        "!pip install  researchpy\n",
        "import researchpy as rp\n",
        "\n",
        "print(rp.summary_cont(df['Programa1']))\n",
        "print(rp.summary_cont(df['Programa2']))\n",
        "print(rp.summary_cont(df['Programa3']))"
      ],
      "execution_count": null,
      "outputs": [
        {
          "output_type": "stream",
          "name": "stdout",
          "text": [
            "Requirement already satisfied: researchpy in /usr/local/lib/python3.7/dist-packages (0.3.2)\n",
            "Requirement already satisfied: pandas in /usr/local/lib/python3.7/dist-packages (from researchpy) (1.1.5)\n",
            "Requirement already satisfied: scipy in /usr/local/lib/python3.7/dist-packages (from researchpy) (1.4.1)\n",
            "Requirement already satisfied: statsmodels in /usr/local/lib/python3.7/dist-packages (from researchpy) (0.10.2)\n",
            "Requirement already satisfied: numpy in /usr/local/lib/python3.7/dist-packages (from researchpy) (1.19.5)\n",
            "Requirement already satisfied: patsy in /usr/local/lib/python3.7/dist-packages (from researchpy) (0.5.2)\n",
            "Requirement already satisfied: python-dateutil>=2.7.3 in /usr/local/lib/python3.7/dist-packages (from pandas->researchpy) (2.8.2)\n",
            "Requirement already satisfied: pytz>=2017.2 in /usr/local/lib/python3.7/dist-packages (from pandas->researchpy) (2018.9)\n",
            "Requirement already satisfied: six>=1.5 in /usr/local/lib/python3.7/dist-packages (from python-dateutil>=2.7.3->pandas->researchpy) (1.15.0)\n",
            "\n",
            "\n",
            "    Variable     N   Mean       SD      SE  95% Conf.  Interval\n",
            "0  Programa1  10.0  196.7  25.7425  8.1405   178.2849  215.1151\n",
            "\n",
            "\n",
            "    Variable     N      Mean       SD       SE  95% Conf.  Interval\n",
            "0  Programa2  11.0  202.5455  41.0959  12.3909   174.9369  230.1541\n",
            "\n",
            "\n",
            "    Variable     N   Mean       SD       SE  95% Conf.  Interval\n",
            "0  Programa3  12.0  207.0  34.7694  10.0371   184.9086  229.0914\n"
          ]
        }
      ]
    },
    {
      "cell_type": "markdown",
      "metadata": {
        "id": "TUN-heF19tnf"
      },
      "source": [
        "# Pruebas de normalidad estadística"
      ]
    },
    {
      "cell_type": "markdown",
      "metadata": {
        "id": "IuWc9xowCEQb"
      },
      "source": [
        "La prueba de normalidad es el primer paso en el análisis de datos. \n",
        "\n",
        "Si los datos se ajustan a la normalidad determina el uso posterior de diferentes métodos de análisis y predicción."
      ]
    },
    {
      "cell_type": "markdown",
      "metadata": {
        "id": "d1kucVYo9vYu"
      },
      "source": [
        "## Prueba de Shapiro-Wilk\n"
      ]
    },
    {
      "cell_type": "code",
      "metadata": {
        "id": "iqMPJpjy935X",
        "colab": {
          "base_uri": "https://localhost:8080/"
        },
        "outputId": "7caf21e7-57d5-490a-ab23-ef4465fb886f"
      },
      "source": [
        "# Shapiro-Wilk Test\n",
        "from scipy.stats import shapiro\n",
        "# normality test\n",
        "p1 = df.Programa1\n",
        "p1 = p1[:-2] #Quitar los NaNs\n",
        "stat, p = shapiro(p1)\n",
        "print('Statistics=%.3f, p=%.3f' % (stat, p))\n",
        "# interpret\n",
        "alpha = 0.05\n",
        "if p > alpha:\n",
        "  print('La muestra parece gaussiana (no se rechaza H0)')\n",
        "else:\n",
        "  print('La muestra no parece gaussiana (se rechaza H0)')"
      ],
      "execution_count": null,
      "outputs": [
        {
          "output_type": "stream",
          "name": "stdout",
          "text": [
            "Statistics=0.922, p=0.372\n",
            "La muestra parece gaussiana (no se rechaza H0)\n"
          ]
        }
      ]
    },
    {
      "cell_type": "code",
      "metadata": {
        "id": "5gmAB142tmRk",
        "colab": {
          "base_uri": "https://localhost:8080/"
        },
        "outputId": "be7ac117-91fe-41be-9f40-3ac151ee517b"
      },
      "source": [
        "# Shapiro-Wilk Test\n",
        "from scipy.stats import shapiro\n",
        "# normality test\n",
        "p2 = df.Programa2\n",
        "p2 = p2[:-1] #Quitar los NaNs\n",
        "stat, p = shapiro(p2)\n",
        "print('Statistics=%.3f, p=%.3f' % (stat, p))\n",
        "# interpret\n",
        "alpha = 0.05\n",
        "if p > alpha:\n",
        "  print('La muestra parece gaussiana (no se rechaza H0)')\n",
        "else:\n",
        "  print('La muestra no parece gaussiana (se rechaza H0)')"
      ],
      "execution_count": null,
      "outputs": [
        {
          "output_type": "stream",
          "name": "stdout",
          "text": [
            "Statistics=0.967, p=0.851\n",
            "La muestra parece gaussiana (no se rechaza H0)\n"
          ]
        }
      ]
    },
    {
      "cell_type": "code",
      "metadata": {
        "id": "UD17kR9zttWl",
        "colab": {
          "base_uri": "https://localhost:8080/"
        },
        "outputId": "065bb819-b810-4d64-e7f9-afad3afe509a"
      },
      "source": [
        "# Shapiro-Wilk Test\n",
        "from scipy.stats import shapiro\n",
        "# normality test\n",
        "stat, p = shapiro(df.Programa3)\n",
        "print('Statistics=%.3f, p=%.3f' % (stat, p))\n",
        "# interpret\n",
        "alpha = 0.05\n",
        "if p > alpha:\n",
        "  print('La muestra parece gaussiana (no se rechaza H0)')\n",
        "else:\n",
        "  print('La muestra no parece gaussiana (se rechaza H0)')"
      ],
      "execution_count": null,
      "outputs": [
        {
          "output_type": "stream",
          "name": "stdout",
          "text": [
            "Statistics=0.918, p=0.272\n",
            "La muestra parece gaussiana (no se rechaza H0)\n"
          ]
        }
      ]
    },
    {
      "cell_type": "markdown",
      "metadata": {
        "id": "419gZxpYEetH"
      },
      "source": [
        "Siendo la hipótesis nula que la población está distribuida normalmente, si el p-valor es menor a alfa (nivel de significancia) entonces la hipótesis nula es rechazada (se concluye que los datos no vienen de una distribución normal). Si el p-valor es mayor a alfa, se concluye que no se puede rechazar dicha hipótesis."
      ]
    },
    {
      "cell_type": "markdown",
      "metadata": {
        "id": "XfeGLQWT_37h"
      },
      "source": [
        "# Prueba de homogeneidad de varianza"
      ]
    },
    {
      "cell_type": "markdown",
      "metadata": {
        "id": "a2V6Ir9kAH0S"
      },
      "source": [
        "La varianza permite ver el grado de desviación de un conjunto de datos de su promedio. \n",
        "La prueba de homogeneidad de varianza se utiliza para probar si hay una diferencia entre la desviación de dos o más conjuntos de datos de su media. "
      ]
    },
    {
      "cell_type": "markdown",
      "metadata": {
        "id": "z3z_trr__84c"
      },
      "source": [
        "## Prueba de Levene"
      ]
    },
    {
      "cell_type": "code",
      "metadata": {
        "id": "WkwI4qB6_Lo3",
        "colab": {
          "base_uri": "https://localhost:8080/"
        },
        "outputId": "e57df614-414a-47b6-ed3c-8261f46437dc"
      },
      "source": [
        "import scipy.stats as stats\n",
        "p1 = df.Programa1\n",
        "p1 = p1[:-2] #Quitar los NaNs\n",
        "p2 = df.Programa2\n",
        "p2 = p2[:-1] #Quitar los NaNs\n",
        "p3 = df.Programa3\n",
        "\n",
        "stats.levene(p1, p2, p3)"
      ],
      "execution_count": null,
      "outputs": [
        {
          "output_type": "execute_result",
          "data": {
            "text/plain": [
              "LeveneResult(statistic=0.8184319809608998, pvalue=0.4507309858459929)"
            ]
          },
          "metadata": {},
          "execution_count": 10
        }
      ]
    },
    {
      "cell_type": "markdown",
      "metadata": {
        "id": "MJMaT_bkAhXw"
      },
      "source": [
        "Valor devuelto p-valor = 0.4507309858459929, que es mayor que el nivel de significancia especificado (se supone que es 5%), y los tres conjuntos de datos se consideran homogéneos en varianza."
      ]
    },
    {
      "cell_type": "markdown",
      "metadata": {
        "id": "yNka2ndTpn1V"
      },
      "source": [
        "# Anova "
      ]
    },
    {
      "cell_type": "markdown",
      "metadata": {
        "id": "Ki_GpLbNxcj2"
      },
      "source": [
        "Anova de un solo un factor."
      ]
    },
    {
      "cell_type": "code",
      "metadata": {
        "id": "BGezTs9ipq4q",
        "colab": {
          "base_uri": "https://localhost:8080/",
          "height": 112
        },
        "outputId": "430faaee-64f5-4d04-f494-d79e922d333c"
      },
      "source": [
        "import scipy.stats as stats\n",
        "import pandas as pd\n",
        "# Ajustar el conjuto de datos  para el paquete statsmodels\n",
        "df_melt = pd.melt(df.reset_index(), id_vars=['index'], value_vars=['Programa1', 'Programa2', 'Programa3'])\n",
        "# Replanzar el nombre de las columnas\n",
        "df_melt.columns = ['index', 'Programa', 'Tamaño']\n",
        "\n",
        "# Obtener tabla ANOVA como una salida de R\n",
        "import statsmodels.api as sm\n",
        "from statsmodels.formula.api import ols\n",
        "\n",
        "# Ordinary Least Squares (OLS) model\n",
        "model = ols('Tamaño ~ C(Programa)', data=df_melt).fit()\n",
        "anova_table = sm.stats.anova_lm(model, typ=2)\n",
        "anova_table\n"
      ],
      "execution_count": null,
      "outputs": [
        {
          "output_type": "execute_result",
          "data": {
            "text/html": [
              "<div>\n",
              "<style scoped>\n",
              "    .dataframe tbody tr th:only-of-type {\n",
              "        vertical-align: middle;\n",
              "    }\n",
              "\n",
              "    .dataframe tbody tr th {\n",
              "        vertical-align: top;\n",
              "    }\n",
              "\n",
              "    .dataframe thead th {\n",
              "        text-align: right;\n",
              "    }\n",
              "</style>\n",
              "<table border=\"1\" class=\"dataframe\">\n",
              "  <thead>\n",
              "    <tr style=\"text-align: right;\">\n",
              "      <th></th>\n",
              "      <th>sum_sq</th>\n",
              "      <th>df</th>\n",
              "      <th>F</th>\n",
              "      <th>PR(&gt;F)</th>\n",
              "    </tr>\n",
              "  </thead>\n",
              "  <tbody>\n",
              "    <tr>\n",
              "      <th>C(Programa)</th>\n",
              "      <td>579.051515</td>\n",
              "      <td>2.0</td>\n",
              "      <td>0.240265</td>\n",
              "      <td>0.787918</td>\n",
              "    </tr>\n",
              "    <tr>\n",
              "      <th>Residual</th>\n",
              "      <td>36150.827273</td>\n",
              "      <td>30.0</td>\n",
              "      <td>NaN</td>\n",
              "      <td>NaN</td>\n",
              "    </tr>\n",
              "  </tbody>\n",
              "</table>\n",
              "</div>"
            ],
            "text/plain": [
              "                   sum_sq    df         F    PR(>F)\n",
              "C(Programa)    579.051515   2.0  0.240265  0.787918\n",
              "Residual     36150.827273  30.0       NaN       NaN"
            ]
          },
          "metadata": {},
          "execution_count": 11
        }
      ]
    },
    {
      "cell_type": "markdown",
      "metadata": {
        "id": "7awZzTBIx2zR"
      },
      "source": [
        "*   H<sub>0</sub>: El tamaño medio del módulo es el mismo en los tres programas.\n",
        "*   H<sub>1</sub>: El tamaño medio del módulo **no** es el mismo en los tres programas.\n",
        "\n",
        "De la tabla Critica de valores para dos colas, se puede ver que F<sub>0.025, 2, 30</sub> = 4:18. Dado que F<sub>0</sub> es igual a 0.240265, entonces F<sub>0</sub> < F<sub>0.025, 2, 30</sub>, entonces es imposible rechazar la hipótesis nula al nivel 0.025.\n",
        "\n",
        "Otro criterio para rechar la hipótesis nula es si el p-valor es menor que el alfa. En este caso p-valor = 0.787918 y el alfa es 0.05, Por lo tanto, no se puede rechazar la hipótesis nula.\n",
        "\n",
        "Se puede concluir que no existe suficiente evidencia empírica para decir que el tamaño de los módulos no es el mismo en los tres programas."
      ]
    },
    {
      "cell_type": "markdown",
      "metadata": {
        "id": "nRot2rA5dCMh"
      },
      "source": [
        "# Pregunta al estudiante\n"
      ]
    },
    {
      "cell_type": "markdown",
      "metadata": {
        "id": "H-WzLPuid8zn"
      },
      "source": [
        "Para el ejemplo anterior describa en detalle el procedimiento de recolección de datos. Debe basarse diseño de protocolo para un estudio de caso propuesto en el libro Experimentation in Software Enginnering, Capítulo 5. Debe indentificar los datos a recolectar, el nivel de la técnica de recolección de datos, el plan para recolectar los datos y almacenarlos, indicar el tipo de análisis de datos e indicar el reporte de los datos.   "
      ]
    },
    {
      "cell_type": "markdown",
      "metadata": {
        "id": "ifMbuUESGjI8"
      },
      "source": [
        "Datos a recolectar: Saber el tamano del modulo en 3 programas diferentes.\n",
        "\n",
        "Nivel de técnica de recolección: El nivel de técnica utilizada para este caso de estudio es es el tres, esto debido que realiza su estudio mediate módulos ya establecidos con anterioridad.\n",
        "\n",
        "Plan de recolección de datos: Se pone en duda si el módulo en cuestión es en realidad más grande dependiendo del programa que se está utilizando, por esta razón se pone en prueba si es realmente cierto esta hipótesis.\n",
        "\n",
        "Anális de datos: Para analizar los datos, se hace uso de distintas técnicas, dentro de estas sobresalent: Prueba de Shapiro-Wilk, Prueba de homogeneidad de varianza, Prueba de Levene y un Anova, con la finalidad de 1: Saber si las muestras del módulo es gaussiana. Mientras el Anova mediante un solo factor nos brinda una mayor amplitud de hipótesis. \n",
        "\n",
        "Reporte: Al finalizar el estudio, se ha contemplado que el tamano del módulo en los 3 diferentes progrmas es diferente. En las pruebas realizadas de los datos, se determina que las muestras en los diferentes programas, es una muestra gaussiana. La prueba levene nos muestra un resultado donde los los 3 conjuntos de datos son homogéneos en varianza. Para finalizar se puede concluir que no existe suficiente evidencia empírica para decir que el tamaño de los módulos no es el mismo en los tres programas."
      ]
    },
    {
      "cell_type": "markdown",
      "metadata": {
        "id": "xsVDay9Id5dw"
      },
      "source": [
        "¿Para que considera que podría utilizar esta herramienta un estudio de caso en su TFG? De un ejemplo concreto."
      ]
    },
    {
      "cell_type": "markdown",
      "metadata": {
        "id": "bdvOToh2Go9A"
      },
      "source": [
        "Puede servir para hacer comparación de los diferentes sistemas de e-Salud que hay en latinoamérica. Por ejemplo el Sistema Odoo de Costa Rica, el proyecto de WawaRed en Perú, y el proyecto realizado en Colombia, Tolima, que intenta ayudar a las personas mayores con problemas de hipertensión, etc."
      ]
    }
  ]
}